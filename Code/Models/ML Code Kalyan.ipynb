{
 "cells": [
  {
   "cell_type": "code",
   "execution_count": 3,
   "metadata": {},
   "outputs": [],
   "source": [
    "#uploading the data.csv using pandas\n",
    "import pandas as pd\n",
    "import numpy as np\n",
    "import matplotlib.pyplot as plt\n",
    "import seaborn as sns\n",
    "from sklearn.model_selection import train_test_split\n",
    "from sklearn.linear_model import LinearRegression\n",
    "from sklearn import metrics\n",
    "from sklearn.preprocessing import StandardScaler\n",
    "file_path = 'data.csv'\n",
    "df = pd.read_csv(file_path)\n",
    "\n"
   ]
  },
  {
   "cell_type": "code",
   "execution_count": 4,
   "metadata": {},
   "outputs": [
    {
     "data": {
      "text/plain": [
       "0       NO\n",
       "1       NO\n",
       "2       NO\n",
       "3       NO\n",
       "4      YES\n",
       "      ... \n",
       "287    YES\n",
       "288     NO\n",
       "289    YES\n",
       "290    YES\n",
       "291     NO\n",
       "Name: class, Length: 292, dtype: object"
      ]
     },
     "execution_count": 4,
     "metadata": {},
     "output_type": "execute_result"
    }
   ],
   "source": [
    "df['class']"
   ]
  },
  {
   "cell_type": "code",
   "execution_count": 5,
   "metadata": {},
   "outputs": [],
   "source": [
    "#trying to add or remove the columns to see if it will improve the model\n",
    "df['total_autism_score'] = df[['A1_Score', 'A2_Score', 'A3_Score', 'A4_Score', 'A5_Score', 'A6_Score', 'A7_Score', 'A8_Score', 'A9_Score', 'A10_Score']].sum(axis=1)\n",
    "\n",
    "df.drop('age_desc', axis=1, inplace=True)"
   ]
  },
  {
   "cell_type": "code",
   "execution_count": 6,
   "metadata": {},
   "outputs": [
    {
     "name": "stdout",
     "output_type": "stream",
     "text": [
      "A1_Score               0\n",
      "A2_Score               0\n",
      "A3_Score               0\n",
      "A4_Score               0\n",
      "A5_Score               0\n",
      "A6_Score               0\n",
      "A7_Score               0\n",
      "A8_Score               0\n",
      "A9_Score               0\n",
      "A10_Score              0\n",
      "age                    4\n",
      "gender                 0\n",
      "ethnicity             43\n",
      "jaundice               0\n",
      "autism                 0\n",
      "country_of_res         0\n",
      "used_app_before        0\n",
      "result                 0\n",
      "relation              43\n",
      "class                  0\n",
      "total_autism_score     0\n",
      "dtype: int64\n"
     ]
    }
   ],
   "source": [
    "#see how many null values are in each column\n",
    "print(df.isnull().sum())\n",
    "\n",
    "df.to_csv('data_cleaned.csv', index=False)"
   ]
  },
  {
   "cell_type": "code",
   "execution_count": 7,
   "metadata": {},
   "outputs": [
    {
     "name": "stderr",
     "output_type": "stream",
     "text": [
      "C:\\Users\\ssghi\\AppData\\Local\\Temp\\ipykernel_27944\\1911155536.py:2: FutureWarning: A value is trying to be set on a copy of a DataFrame or Series through chained assignment using an inplace method.\n",
      "The behavior will change in pandas 3.0. This inplace method will never work because the intermediate object on which we are setting values always behaves as a copy.\n",
      "\n",
      "For example, when doing 'df[col].method(value, inplace=True)', try using 'df.method({col: value}, inplace=True)' or df[col] = df[col].method(value) instead, to perform the operation inplace on the original object.\n",
      "\n",
      "\n",
      "  df['age'].fillna(df['age'].mean(), inplace=True)\n",
      "C:\\Users\\ssghi\\AppData\\Local\\Temp\\ipykernel_27944\\1911155536.py:4: FutureWarning: A value is trying to be set on a copy of a DataFrame or Series through chained assignment using an inplace method.\n",
      "The behavior will change in pandas 3.0. This inplace method will never work because the intermediate object on which we are setting values always behaves as a copy.\n",
      "\n",
      "For example, when doing 'df[col].method(value, inplace=True)', try using 'df.method({col: value}, inplace=True)' or df[col] = df[col].method(value) instead, to perform the operation inplace on the original object.\n",
      "\n",
      "\n",
      "  df['ethnicity'].fillna('unknown', inplace=True)\n",
      "C:\\Users\\ssghi\\AppData\\Local\\Temp\\ipykernel_27944\\1911155536.py:6: FutureWarning: A value is trying to be set on a copy of a DataFrame or Series through chained assignment using an inplace method.\n",
      "The behavior will change in pandas 3.0. This inplace method will never work because the intermediate object on which we are setting values always behaves as a copy.\n",
      "\n",
      "For example, when doing 'df[col].method(value, inplace=True)', try using 'df.method({col: value}, inplace=True)' or df[col] = df[col].method(value) instead, to perform the operation inplace on the original object.\n",
      "\n",
      "\n",
      "  df['relation'].fillna('unknown', inplace=True)\n"
     ]
    }
   ],
   "source": [
    "#in the 4 age columns, there are 4 missing values. I will fill them with the mean of the column\n",
    "df['age'].fillna(df['age'].mean(), inplace=True)\n",
    "#in ethnicity, there are 43 missing values. I will fill them with the mode of the column, since they are categorical, i will ad as \"unknown\"\n",
    "df['ethnicity'].fillna('unknown', inplace=True)\n",
    "#in relation, there are 6\\43 missing values. I will fill them with the mode of the column, since they are categorical, i will ad as \"unknown\"\n",
    "df['relation'].fillna('unknown', inplace=True)"
   ]
  },
  {
   "cell_type": "code",
   "execution_count": 8,
   "metadata": {},
   "outputs": [
    {
     "data": {
      "text/plain": [
       "0       NO\n",
       "1       NO\n",
       "2       NO\n",
       "3       NO\n",
       "4      YES\n",
       "      ... \n",
       "287    YES\n",
       "288     NO\n",
       "289    YES\n",
       "290    YES\n",
       "291     NO\n",
       "Name: class, Length: 292, dtype: object"
      ]
     },
     "execution_count": 8,
     "metadata": {},
     "output_type": "execute_result"
    }
   ],
   "source": [
    "df['class']"
   ]
  },
  {
   "cell_type": "markdown",
   "metadata": {},
   "source": [
    "We used mean for age null values. There were only 4 null values so we used mean. For the other categorical values we just put in unknown as there isnt a way to just guesstimate the ethnicity and relation. "
   ]
  },
  {
   "cell_type": "code",
   "execution_count": 9,
   "metadata": {},
   "outputs": [],
   "source": [
    "df['age_autism_interaction'] = df['age'] * df['total_autism_score']/2"
   ]
  },
  {
   "cell_type": "code",
   "execution_count": 10,
   "metadata": {},
   "outputs": [],
   "source": [
    "df['class'] = df['class'].map({'NO': 0, 'YES': 1})\n",
    "y = df['class']\n",
    "\n",
    "X = df.drop('class', axis=1)\n",
    "X['gender'] = X['gender'].map({'M': 0, 'F': 1})\n",
    "X['jaundice'] = X['jaundice'].map({'no': 0, 'yes': 1})\n",
    "X['autism'] = X['autism'].map({'no': 0, 'yes': 1})\n",
    "X['used_app_before'] = X['used_app_before'].map({'no': 0, 'yes': 1})\n",
    "#drop gender column\n"
   ]
  },
  {
   "cell_type": "code",
   "execution_count": 11,
   "metadata": {},
   "outputs": [
    {
     "data": {
      "text/plain": [
       "Index(['ethnicity', 'country_of_res', 'relation'], dtype='object')"
      ]
     },
     "execution_count": 11,
     "metadata": {},
     "output_type": "execute_result"
    }
   ],
   "source": [
    "categorical_cols = X.select_dtypes(include=['object']).columns\n",
    "categorical_cols"
   ]
  },
  {
   "cell_type": "markdown",
   "metadata": {},
   "source": [
    "For categorical data types which are binary, we are just using binary encoding. The columns like gender, jaundice, autism, used_app_before,class only have two categorical values in them. So we used 1 and 0 for the values. "
   ]
  },
  {
   "cell_type": "code",
   "execution_count": 12,
   "metadata": {},
   "outputs": [],
   "source": [
    "#one hot encoding categorical columns remaining \n",
    "categorical_cols = X.select_dtypes(include=['object']).columns\n",
    "X = pd.get_dummies(X, columns=categorical_cols, drop_first=True,dtype=int)"
   ]
  },
  {
   "cell_type": "markdown",
   "metadata": {},
   "source": [
    "One hot encoding was used for all the other categorical values as they have more than 2 categories in them. "
   ]
  },
  {
   "cell_type": "code",
   "execution_count": 13,
   "metadata": {},
   "outputs": [],
   "source": [
    "categorical_cols = X.select_dtypes(include=['object']).columns"
   ]
  },
  {
   "cell_type": "code",
   "execution_count": 14,
   "metadata": {},
   "outputs": [],
   "source": [
    "X.drop(\"result\", axis=1, inplace=True)"
   ]
  },
  {
   "cell_type": "code",
   "execution_count": 15,
   "metadata": {},
   "outputs": [],
   "source": [
    "#rename columns \n",
    "X = X.rename(columns={\n",
    "    'A1_Score': 'Notices_Sounds_A1',\n",
    "    'A2_Score': 'Whole_Picture_A2',\n",
    "    'A3_Score': 'Tracks_Conversations_A3',\n",
    "    'A4_Score': 'Switch_Activities_A4',\n",
    "    'A5_Score': 'Conversation_Struggle_A5',\n",
    "    'A6_Score': 'Social_ChitChat_A6',\n",
    "    'A7_Score': 'Understands_Intentions_A7',\n",
    "    'A8_Score': 'Pretend_Play_A8',\n",
    "    'A9_Score': 'Understands_Emotions_A9',\n",
    "    'A10_Score': 'Makes_Friends_Easily_A10',\n",
    "})"
   ]
  },
  {
   "cell_type": "code",
   "execution_count": 16,
   "metadata": {},
   "outputs": [],
   "source": [
    "\n",
    "X_train, X_test, y_train, y_test = train_test_split(X, y, test_size=0.2, shuffle=True, random_state=42)"
   ]
  },
  {
   "cell_type": "code",
   "execution_count": 17,
   "metadata": {},
   "outputs": [
    {
     "data": {
      "text/plain": [
       "210    1\n",
       "229    1\n",
       "226    0\n",
       "73     1\n",
       "25     0\n",
       "      ..\n",
       "188    0\n",
       "71     0\n",
       "106    1\n",
       "270    1\n",
       "102    0\n",
       "Name: class, Length: 233, dtype: int64"
      ]
     },
     "execution_count": 17,
     "metadata": {},
     "output_type": "execute_result"
    }
   ],
   "source": [
    "y_train"
   ]
  },
  {
   "cell_type": "markdown",
   "metadata": {},
   "source": [
    "For Validation purposes we are using 20% of data for testing our model. "
   ]
  },
  {
   "cell_type": "code",
   "execution_count": 18,
   "metadata": {},
   "outputs": [],
   "source": [
    "import xgboost as xgb\n",
    "from sklearn.metrics import accuracy_score\n",
    "from sklearn.metrics import roc_auc_score\n",
    "from sklearn.metrics import f1_score"
   ]
  },
  {
   "cell_type": "code",
   "execution_count": 19,
   "metadata": {},
   "outputs": [
    {
     "name": "stdout",
     "output_type": "stream",
     "text": [
      "Accuracy: 1.0000\n",
      "F1 Score: 1.0000\n"
     ]
    },
    {
     "data": {
      "image/png": "[encoded data removed]",
      "text/plain": [
       "<Figure size 600x400 with 2 Axes>"
      ]
     },
     "metadata": {},
     "output_type": "display_data"
    },
    {
     "name": "stdout",
     "output_type": "stream",
     "text": [
      "Classification Report:\n",
      "               precision    recall  f1-score   support\n",
      "\n",
      "           0       1.00      1.00      1.00        39\n",
      "           1       1.00      1.00      1.00        20\n",
      "\n",
      "    accuracy                           1.00        59\n",
      "   macro avg       1.00      1.00      1.00        59\n",
      "weighted avg       1.00      1.00      1.00        59\n",
      "\n"
     ]
    },
    {
     "name": "stderr",
     "output_type": "stream",
     "text": [
      "C:\\Users\\ssghi\\AppData\\Local\\Temp\\ipykernel_27944\\1820629439.py:45: FutureWarning: \n",
      "\n",
      "Passing `palette` without assigning `hue` is deprecated and will be removed in v0.14.0. Assign the `y` variable to `hue` and set `legend=False` for the same effect.\n",
      "\n",
      "  sns.barplot(x=scores, y=features, palette='viridis')\n"
     ]
    },
    {
     "data": {
      "image/png": "[encoded data removed]",
      "text/plain": [
       "<Figure size 1000x600 with 1 Axes>"
      ]
     },
     "metadata": {},
     "output_type": "display_data"
    }
   ],
   "source": [
    "model = xgb.XGBClassifier(subsample=0.6, n_estimators=300, min_child_weight=3, max_depth=6, learning_rate=0.1, gamma=2.5, colsample_bytree=0.3)\n",
    "model.fit(X_train, y_train)\n",
    "y_pred = model.predict(X_test)\n",
    "\n",
    "import matplotlib.pyplot as plt\n",
    "import seaborn as sns\n",
    "from sklearn.metrics import accuracy_score, confusion_matrix, classification_report, f1_score\n",
    "\n",
    "# Calculate accuracy\n",
    "accuracy = accuracy_score(y_test, y_pred)\n",
    "print(f\"Accuracy: {accuracy:.4f}\")\n",
    "\n",
    "# Calculate f1 score\n",
    "f1 = f1_score(y_test, y_pred)\n",
    "print(f\"F1 Score: {f1:.4f}\")\n",
    "\n",
    "# Compute confusion matrix\n",
    "cm = confusion_matrix(y_test, y_pred)\n",
    "\n",
    "# Display confusion matrix as a heatmap\n",
    "plt.figure(figsize=(6,4))\n",
    "sns.heatmap(cm, annot=True, fmt=\"d\", cmap=\"Blues\", xticklabels=['Not Autistic (0)', 'Autistic (1)'], yticklabels=['Not Autistic (0)', 'Autistic (1)'])\n",
    "plt.xlabel(\"Predicted Label\")\n",
    "plt.ylabel(\"True Label\")\n",
    "plt.title(\"Confusion Matrix\")\n",
    "plt.show()\n",
    "\n",
    "report = classification_report(y_test, y_pred)\n",
    "print(\"Classification Report:\\n\", report)\n",
    "\n",
    "\n",
    "def plot_feature_importance(model, top_n=20):\n",
    "    # Get feature importance scores\n",
    "    importance_dict = model.get_booster().get_score(importance_type='weight')\n",
    "    \n",
    "    # Convert to sorted list\n",
    "    sorted_importance = sorted(importance_dict.items(), key=lambda x: x[1], reverse=True)\n",
    "    \n",
    "    # Extract top features\n",
    "    top_features = sorted_importance[:top_n]\n",
    "    features, scores = zip(*top_features)\n",
    "    \n",
    "    # Plot\n",
    "    plt.figure(figsize=(10, 6))\n",
    "    sns.barplot(x=scores, y=features, palette='viridis')\n",
    "    plt.xlabel(\"Feature Importance Score\")\n",
    "    plt.ylabel(\"Features\")\n",
    "    plt.title(\"Top Feature Importances from XGBoost Model\")\n",
    "    plt.show()\n",
    "\n",
    "# Example usage\n",
    "# Assuming 'model' is your trained XGBoost model\n",
    "plot_feature_importance(model)\n",
    "#export the feature importance to a csv file\n",
    "importance_dict = model.get_booster().get_score(importance_type='weight')\n",
    "importance_df = pd.DataFrame(importance_dict.items(), columns=['Feature', 'Importance'])\n",
    "importance_df = importance_df.sort_values(by='Importance', ascending=False)\n",
    "importance_df.to_csv('feature_importance.csv', index=False)\n",
    "\n"
   ]
  },
  {
   "cell_type": "markdown",
   "metadata": {},
   "source": [
    "The hyperparameters used are found by using the tuning data from the code box result below.\n",
    "\n",
    "We first used xgBoost because when Olivier did its presentation last week we thought it would be a really good model to try out. Since we knew that autism cases are not prevalent in real world. We wanted to emphasize on F1 score than on accuracy. "
   ]
  },
  {
   "cell_type": "markdown",
   "metadata": {},
   "source": [
    "When doing the hyperparameters tuning we could see that the given details does give really good answers. It really does have accuracy of 100% and this is validation on test dataset. So this already is a really good score so i didnt have any other reason to try another model. We might argue that this is because of overfitting but since we are looking at different data to validate our model and the model having a good score even on that model means that this is a good thing and sufficient model \n"
   ]
  },
  {
   "cell_type": "code",
   "execution_count": 20,
   "metadata": {},
   "outputs": [
    {
     "name": "stdout",
     "output_type": "stream",
     "text": [
      "Accuracy: 1.0000\n",
      "F1 Score: 1.0000\n"
     ]
    },
    {
     "data": {
      "image/png": "[encoded data removed]",
      "text/plain": [
       "<Figure size 600x400 with 2 Axes>"
      ]
     },
     "metadata": {},
     "output_type": "display_data"
    }
   ],
   "source": [
    "#now using random forest\n",
    "from sklearn.ensemble import RandomForestClassifier\n",
    "\n",
    "rf_model = RandomForestClassifier(random_state=42)  \n",
    "rf_model.fit(X_train, y_train)\n",
    "y_pred = rf_model.predict(X_test)\n",
    "\n",
    "accuracy = accuracy_score(y_test, y_pred)\n",
    "print(f\"Accuracy: {accuracy:.4f}\")\n",
    "\n",
    "f1 = f1_score(y_test, y_pred)\n",
    "print(f\"F1 Score: {f1:.4f}\")\n",
    "\n",
    "cm = confusion_matrix(y_test, y_pred)\n",
    "\n",
    "plt.figure(figsize=(6,4))\n",
    "sns.heatmap(cm, annot=True, fmt=\"d\", cmap=\"Blues\",  \n",
    "            xticklabels=['Not Autistic (0)', 'Autistic (1)'], \n",
    "            yticklabels=['Not Autistic (0)', 'Autistic (1)'])\n",
    "plt.xlabel(\"Predicted Label\")\n",
    "plt.ylabel(\"True Label\")\n",
    "plt.title(\"Confusion Matrix\")\n",
    "plt.show()"
   ]
  },
  {
   "cell_type": "markdown",
   "metadata": {},
   "source": [
    "Random forest works pretty well too. Without tuning the hyperparameters. f1 score and accuracy is pretty good. "
   ]
  },
  {
   "cell_type": "code",
   "execution_count": 21,
   "metadata": {},
   "outputs": [],
   "source": [
    "#storing the model using pickle\n",
    "import pickle\n",
    "model_filename = 'xgboost_model.pkl'\n",
    "with open(model_filename, 'wb') as file:\n",
    "    pickle.dump(model, file)\n"
   ]
  },
  {
   "cell_type": "code",
   "execution_count": 22,
   "metadata": {},
   "outputs": [],
   "source": [
    "#Streamlit app deployment\n",
    "import streamlit as st"
   ]
  },
  {
   "cell_type": "code",
   "execution_count": 23,
   "metadata": {},
   "outputs": [
    {
     "name": "stderr",
     "output_type": "stream",
     "text": [
      "2025-04-28 15:20:52.971 WARNING streamlit.runtime.scriptrunner_utils.script_run_context: Thread 'MainThread': missing ScriptRunContext! This warning can be ignored when running in bare mode.\n"
     ]
    },
    {
     "name": "stderr",
     "output_type": "stream",
     "text": [
      "2025-04-28 15:20:53.749 \n",
      "  \u001b[33m\u001b[1mWarning:\u001b[0m to view this Streamlit app on a browser, run it with the following\n",
      "  command:\n",
      "\n",
      "    streamlit run C:\\Users\\ssghi\\AppData\\Roaming\\Python\\Python313\\site-packages\\ipykernel_launcher.py [ARGUMENTS]\n",
      "2025-04-28 15:20:53.751 Thread 'MainThread': missing ScriptRunContext! This warning can be ignored when running in bare mode.\n",
      "2025-04-28 15:20:53.752 Thread 'MainThread': missing ScriptRunContext! This warning can be ignored when running in bare mode.\n",
      "2025-04-28 15:20:53.754 Thread 'MainThread': missing ScriptRunContext! This warning can be ignored when running in bare mode.\n",
      "2025-04-28 15:20:53.754 Thread 'MainThread': missing ScriptRunContext! This warning can be ignored when running in bare mode.\n",
      "2025-04-28 15:20:53.755 Thread 'MainThread': missing ScriptRunContext! This warning can be ignored when running in bare mode.\n",
      "2025-04-28 15:20:53.756 Session state does not function when running a script without `streamlit run`\n",
      "2025-04-28 15:20:53.757 Thread 'MainThread': missing ScriptRunContext! This warning can be ignored when running in bare mode.\n",
      "2025-04-28 15:20:53.758 Thread 'MainThread': missing ScriptRunContext! This warning can be ignored when running in bare mode.\n",
      "2025-04-28 15:20:53.760 Thread 'MainThread': missing ScriptRunContext! This warning can be ignored when running in bare mode.\n",
      "2025-04-28 15:20:53.761 Thread 'MainThread': missing ScriptRunContext! This warning can be ignored when running in bare mode.\n",
      "2025-04-28 15:20:53.762 Thread 'MainThread': missing ScriptRunContext! This warning can be ignored when running in bare mode.\n",
      "2025-04-28 15:20:53.763 Thread 'MainThread': missing ScriptRunContext! This warning can be ignored when running in bare mode.\n",
      "2025-04-28 15:20:53.763 Thread 'MainThread': missing ScriptRunContext! This warning can be ignored when running in bare mode.\n",
      "2025-04-28 15:20:53.764 Thread 'MainThread': missing ScriptRunContext! This warning can be ignored when running in bare mode.\n",
      "2025-04-28 15:20:53.765 Thread 'MainThread': missing ScriptRunContext! This warning can be ignored when running in bare mode.\n",
      "2025-04-28 15:20:53.767 Thread 'MainThread': missing ScriptRunContext! This warning can be ignored when running in bare mode.\n",
      "2025-04-28 15:20:53.768 Thread 'MainThread': missing ScriptRunContext! This warning can be ignored when running in bare mode.\n",
      "2025-04-28 15:20:53.769 Thread 'MainThread': missing ScriptRunContext! This warning can be ignored when running in bare mode.\n",
      "2025-04-28 15:20:53.770 Thread 'MainThread': missing ScriptRunContext! This warning can be ignored when running in bare mode.\n",
      "2025-04-28 15:20:53.771 Thread 'MainThread': missing ScriptRunContext! This warning can be ignored when running in bare mode.\n",
      "2025-04-28 15:20:53.772 Thread 'MainThread': missing ScriptRunContext! This warning can be ignored when running in bare mode.\n",
      "2025-04-28 15:20:53.773 Thread 'MainThread': missing ScriptRunContext! This warning can be ignored when running in bare mode.\n",
      "2025-04-28 15:20:53.773 Thread 'MainThread': missing ScriptRunContext! This warning can be ignored when running in bare mode.\n",
      "2025-04-28 15:20:53.774 Thread 'MainThread': missing ScriptRunContext! This warning can be ignored when running in bare mode.\n",
      "2025-04-28 15:20:53.776 Thread 'MainThread': missing ScriptRunContext! This warning can be ignored when running in bare mode.\n",
      "2025-04-28 15:20:53.777 Thread 'MainThread': missing ScriptRunContext! This warning can be ignored when running in bare mode.\n",
      "2025-04-28 15:20:53.778 Thread 'MainThread': missing ScriptRunContext! This warning can be ignored when running in bare mode.\n",
      "2025-04-28 15:20:53.779 Thread 'MainThread': missing ScriptRunContext! This warning can be ignored when running in bare mode.\n",
      "2025-04-28 15:20:53.780 Thread 'MainThread': missing ScriptRunContext! This warning can be ignored when running in bare mode.\n",
      "2025-04-28 15:20:53.780 Thread 'MainThread': missing ScriptRunContext! This warning can be ignored when running in bare mode.\n",
      "2025-04-28 15:20:53.781 Thread 'MainThread': missing ScriptRunContext! This warning can be ignored when running in bare mode.\n",
      "2025-04-28 15:20:53.782 Thread 'MainThread': missing ScriptRunContext! This warning can be ignored when running in bare mode.\n",
      "2025-04-28 15:20:53.783 Thread 'MainThread': missing ScriptRunContext! This warning can be ignored when running in bare mode.\n",
      "2025-04-28 15:20:53.784 Thread 'MainThread': missing ScriptRunContext! This warning can be ignored when running in bare mode.\n",
      "2025-04-28 15:20:53.785 Thread 'MainThread': missing ScriptRunContext! This warning can be ignored when running in bare mode.\n",
      "2025-04-28 15:20:53.786 Thread 'MainThread': missing ScriptRunContext! This warning can be ignored when running in bare mode.\n",
      "2025-04-28 15:20:53.787 Thread 'MainThread': missing ScriptRunContext! This warning can be ignored when running in bare mode.\n",
      "2025-04-28 15:20:53.788 Thread 'MainThread': missing ScriptRunContext! This warning can be ignored when running in bare mode.\n",
      "2025-04-28 15:20:53.789 Thread 'MainThread': missing ScriptRunContext! This warning can be ignored when running in bare mode.\n",
      "2025-04-28 15:20:53.790 Thread 'MainThread': missing ScriptRunContext! This warning can be ignored when running in bare mode.\n",
      "2025-04-28 15:20:53.790 Thread 'MainThread': missing ScriptRunContext! This warning can be ignored when running in bare mode.\n",
      "2025-04-28 15:20:53.791 Thread 'MainThread': missing ScriptRunContext! This warning can be ignored when running in bare mode.\n",
      "2025-04-28 15:20:53.792 Thread 'MainThread': missing ScriptRunContext! This warning can be ignored when running in bare mode.\n",
      "2025-04-28 15:20:53.793 Thread 'MainThread': missing ScriptRunContext! This warning can be ignored when running in bare mode.\n",
      "2025-04-28 15:20:53.794 Thread 'MainThread': missing ScriptRunContext! This warning can be ignored when running in bare mode.\n",
      "2025-04-28 15:20:53.795 Thread 'MainThread': missing ScriptRunContext! This warning can be ignored when running in bare mode.\n",
      "2025-04-28 15:20:53.796 Thread 'MainThread': missing ScriptRunContext! This warning can be ignored when running in bare mode.\n",
      "2025-04-28 15:20:53.796 Thread 'MainThread': missing ScriptRunContext! This warning can be ignored when running in bare mode.\n",
      "2025-04-28 15:20:53.797 Thread 'MainThread': missing ScriptRunContext! This warning can be ignored when running in bare mode.\n",
      "2025-04-28 15:20:53.798 Thread 'MainThread': missing ScriptRunContext! This warning can be ignored when running in bare mode.\n",
      "2025-04-28 15:20:53.799 Thread 'MainThread': missing ScriptRunContext! This warning can be ignored when running in bare mode.\n",
      "2025-04-28 15:20:53.799 Thread 'MainThread': missing ScriptRunContext! This warning can be ignored when running in bare mode.\n",
      "2025-04-28 15:20:53.800 Thread 'MainThread': missing ScriptRunContext! This warning can be ignored when running in bare mode.\n",
      "2025-04-28 15:20:53.801 Thread 'MainThread': missing ScriptRunContext! This warning can be ignored when running in bare mode.\n",
      "2025-04-28 15:20:53.802 Thread 'MainThread': missing ScriptRunContext! This warning can be ignored when running in bare mode.\n",
      "2025-04-28 15:20:53.803 Thread 'MainThread': missing ScriptRunContext! This warning can be ignored when running in bare mode.\n",
      "2025-04-28 15:20:53.804 Thread 'MainThread': missing ScriptRunContext! This warning can be ignored when running in bare mode.\n",
      "2025-04-28 15:20:53.805 Thread 'MainThread': missing ScriptRunContext! This warning can be ignored when running in bare mode.\n",
      "2025-04-28 15:20:53.805 Thread 'MainThread': missing ScriptRunContext! This warning can be ignored when running in bare mode.\n",
      "2025-04-28 15:20:53.806 Thread 'MainThread': missing ScriptRunContext! This warning can be ignored when running in bare mode.\n",
      "2025-04-28 15:20:53.807 Thread 'MainThread': missing ScriptRunContext! This warning can be ignored when running in bare mode.\n",
      "2025-04-28 15:20:53.808 Thread 'MainThread': missing ScriptRunContext! This warning can be ignored when running in bare mode.\n",
      "2025-04-28 15:20:53.808 Thread 'MainThread': missing ScriptRunContext! This warning can be ignored when running in bare mode.\n",
      "2025-04-28 15:20:53.810 Thread 'MainThread': missing ScriptRunContext! This warning can be ignored when running in bare mode.\n",
      "2025-04-28 15:20:53.811 Thread 'MainThread': missing ScriptRunContext! This warning can be ignored when running in bare mode.\n",
      "2025-04-28 15:20:53.812 Thread 'MainThread': missing ScriptRunContext! This warning can be ignored when running in bare mode.\n",
      "2025-04-28 15:20:53.813 Thread 'MainThread': missing ScriptRunContext! This warning can be ignored when running in bare mode.\n",
      "2025-04-28 15:20:53.816 Thread 'MainThread': missing ScriptRunContext! This warning can be ignored when running in bare mode.\n",
      "2025-04-28 15:20:53.818 Thread 'MainThread': missing ScriptRunContext! This warning can be ignored when running in bare mode.\n",
      "2025-04-28 15:20:53.819 Thread 'MainThread': missing ScriptRunContext! This warning can be ignored when running in bare mode.\n",
      "2025-04-28 15:20:53.820 Thread 'MainThread': missing ScriptRunContext! This warning can be ignored when running in bare mode.\n",
      "2025-04-28 15:20:53.821 Thread 'MainThread': missing ScriptRunContext! This warning can be ignored when running in bare mode.\n",
      "2025-04-28 15:20:53.822 Thread 'MainThread': missing ScriptRunContext! This warning can be ignored when running in bare mode.\n",
      "2025-04-28 15:20:53.823 Thread 'MainThread': missing ScriptRunContext! This warning can be ignored when running in bare mode.\n",
      "2025-04-28 15:20:53.823 Thread 'MainThread': missing ScriptRunContext! This warning can be ignored when running in bare mode.\n",
      "2025-04-28 15:20:53.824 Thread 'MainThread': missing ScriptRunContext! This warning can be ignored when running in bare mode.\n",
      "2025-04-28 15:20:53.826 Thread 'MainThread': missing ScriptRunContext! This warning can be ignored when running in bare mode.\n",
      "2025-04-28 15:20:53.827 Thread 'MainThread': missing ScriptRunContext! This warning can be ignored when running in bare mode.\n",
      "2025-04-28 15:20:53.829 Thread 'MainThread': missing ScriptRunContext! This warning can be ignored when running in bare mode.\n",
      "2025-04-28 15:20:53.831 Thread 'MainThread': missing ScriptRunContext! This warning can be ignored when running in bare mode.\n",
      "2025-04-28 15:20:53.832 Thread 'MainThread': missing ScriptRunContext! This warning can be ignored when running in bare mode.\n",
      "2025-04-28 15:20:53.833 Thread 'MainThread': missing ScriptRunContext! This warning can be ignored when running in bare mode.\n",
      "2025-04-28 15:20:53.834 Thread 'MainThread': missing ScriptRunContext! This warning can be ignored when running in bare mode.\n",
      "2025-04-28 15:20:53.835 Thread 'MainThread': missing ScriptRunContext! This warning can be ignored when running in bare mode.\n",
      "2025-04-28 15:20:53.836 Thread 'MainThread': missing ScriptRunContext! This warning can be ignored when running in bare mode.\n",
      "2025-04-28 15:20:53.837 Thread 'MainThread': missing ScriptRunContext! This warning can be ignored when running in bare mode.\n",
      "2025-04-28 15:20:53.838 Thread 'MainThread': missing ScriptRunContext! This warning can be ignored when running in bare mode.\n",
      "2025-04-28 15:20:53.839 Thread 'MainThread': missing ScriptRunContext! This warning can be ignored when running in bare mode.\n",
      "2025-04-28 15:20:53.840 Thread 'MainThread': missing ScriptRunContext! This warning can be ignored when running in bare mode.\n",
      "2025-04-28 15:20:53.841 Thread 'MainThread': missing ScriptRunContext! This warning can be ignored when running in bare mode.\n",
      "2025-04-28 15:20:53.842 Thread 'MainThread': missing ScriptRunContext! This warning can be ignored when running in bare mode.\n",
      "2025-04-28 15:20:53.843 Thread 'MainThread': missing ScriptRunContext! This warning can be ignored when running in bare mode.\n",
      "2025-04-28 15:20:53.844 Thread 'MainThread': missing ScriptRunContext! This warning can be ignored when running in bare mode.\n",
      "2025-04-28 15:20:53.845 Thread 'MainThread': missing ScriptRunContext! This warning can be ignored when running in bare mode.\n",
      "2025-04-28 15:20:53.846 Thread 'MainThread': missing ScriptRunContext! This warning can be ignored when running in bare mode.\n",
      "2025-04-28 15:20:53.848 Thread 'MainThread': missing ScriptRunContext! This warning can be ignored when running in bare mode.\n",
      "2025-04-28 15:20:53.849 Thread 'MainThread': missing ScriptRunContext! This warning can be ignored when running in bare mode.\n",
      "2025-04-28 15:20:53.850 Thread 'MainThread': missing ScriptRunContext! This warning can be ignored when running in bare mode.\n",
      "2025-04-28 15:20:53.851 Thread 'MainThread': missing ScriptRunContext! This warning can be ignored when running in bare mode.\n",
      "2025-04-28 15:20:53.852 Thread 'MainThread': missing ScriptRunContext! This warning can be ignored when running in bare mode.\n",
      "2025-04-28 15:20:53.853 Thread 'MainThread': missing ScriptRunContext! This warning can be ignored when running in bare mode.\n",
      "2025-04-28 15:20:53.854 Thread 'MainThread': missing ScriptRunContext! This warning can be ignored when running in bare mode.\n",
      "2025-04-28 15:20:53.855 Thread 'MainThread': missing ScriptRunContext! This warning can be ignored when running in bare mode.\n",
      "2025-04-28 15:20:53.856 Thread 'MainThread': missing ScriptRunContext! This warning can be ignored when running in bare mode.\n",
      "2025-04-28 15:20:53.857 Thread 'MainThread': missing ScriptRunContext! This warning can be ignored when running in bare mode.\n",
      "2025-04-28 15:20:53.858 Thread 'MainThread': missing ScriptRunContext! This warning can be ignored when running in bare mode.\n",
      "2025-04-28 15:20:53.860 Thread 'MainThread': missing ScriptRunContext! This warning can be ignored when running in bare mode.\n",
      "2025-04-28 15:20:53.861 Thread 'MainThread': missing ScriptRunContext! This warning can be ignored when running in bare mode.\n",
      "2025-04-28 15:20:53.862 Thread 'MainThread': missing ScriptRunContext! This warning can be ignored when running in bare mode.\n",
      "2025-04-28 15:20:53.863 Thread 'MainThread': missing ScriptRunContext! This warning can be ignored when running in bare mode.\n"
     ]
    },
    {
     "data": {
      "text/plain": [
       "{'age': 10,\n",
       " 'Notices_Sounds_A1': 1,\n",
       " 'Whole_Picture_A2': 1,\n",
       " 'Tracks_Conversations_A3': 1,\n",
       " 'Switch_Activities_A4': 1,\n",
       " 'Conversation_Struggle_A5': 1,\n",
       " 'Social_ChitChat_A6': 1,\n",
       " 'Understands_Intentions_A7': 1,\n",
       " 'Pretend_Play_A8': 1,\n",
       " 'Understands_Emotions_A9': 1,\n",
       " 'Makes_Friends_Easily_A10': 1,\n",
       " 'jaundice': 0,\n",
       " 'autism': 0,\n",
       " 'used_app_before': 0,\n",
       " 'total_autism_score': 10,\n",
       " 'age_autism_interaction': 50.0,\n",
       " 'gender_m': 0,\n",
       " \"country_of_res_'Isle of Man'\": 1,\n",
       " 'ethnicity_White': 1,\n",
       " 'relation_Parent': 1}"
      ]
     },
     "execution_count": 23,
     "metadata": {},
     "output_type": "execute_result"
    }
   ],
   "source": [
    "\n",
    "def get_user_input():\n",
    "    st.title(\"Autism Prediction App\")\n",
    "    \n",
    "    # User input fields\n",
    "    age = st.number_input(\"Age\", min_value=0, max_value=20, value=10)\n",
    "    Notices_Sounds_A1 = st.number_input(\"Notices Sounds (A1)\", min_value=0, max_value=1, value=1)\n",
    "    Whole_Picture_A2 = st.number_input(\"Whole Picture (A2)\", min_value=0, max_value=1, value=1)\n",
    "    Tracks_Conversations_A3 = st.number_input(\"Tracks Conversations (A3)\", min_value=0, max_value=1, value=1)\n",
    "    Switch_Activities_A4 = st.number_input(\"Switch Activities (A4)\", min_value=0, max_value=1, value=1)\n",
    "    Conversation_Struggle_A5 = st.number_input(\"Conversation Struggle (A5)\", min_value=0, max_value=1, value=1)\n",
    "    Social_ChitChat_A6 = st.number_input(\"Social ChitChat (A6)\", min_value=0, max_value=1, value=1)\n",
    "    Understands_Intentions_A7 = st.number_input(\"Understands Intentions (A7)\", min_value=0, max_value=1, value=1)\n",
    "    Pretend_Play_A8 = st.number_input(\"Pretend Play (A8)\", min_value=0, max_value=1, value=1)\n",
    "    Understands_Emotions_A9 = st.number_input(\"Understands Emotions (A9)\", min_value=0, max_value=1, value=1)  \n",
    "    Makes_Friends_Easily_A10 = st.number_input(\"Makes Friends Easily (A10)\", min_value=0, max_value=1, value=1)\n",
    "    jaundice = st.selectbox(\"Jaundice\", options=[\"no\", \"yes\"])\n",
    "    autism = st.selectbox(\"Autism\", options=[\"no\", \"yes\"])\n",
    "    used_app_before = st.selectbox(\"Used App Before\", options=[\"no\", \"yes\"])\n",
    "    total_autism_score = Notices_Sounds_A1 + Whole_Picture_A2 + Tracks_Conversations_A3 + Switch_Activities_A4 + Conversation_Struggle_A5 + Social_ChitChat_A6 + Understands_Intentions_A7 + Pretend_Play_A8 + Understands_Emotions_A9 + Makes_Friends_Easily_A10\n",
    "    age_autism_interaction = age * total_autism_score / 2\n",
    "    gender = st.selectbox(\"Gender\", options=[\"Male\", \"Female\"])\n",
    "    ethnicity = st.selectbox(\"Ethnicity\", options=[\"White\", \"Asian\", \"Black\", \"Hispanic\",\"Latino\",'Middle Eastern',\"South Asian\",\"Turkish\",\"White-European\",\"Pasifika\",\"Others\",\"Unknown\"])\n",
    "    country_options = sorted([\n",
    "    \"Afghanistan\", \"Argentina\", \"Armenia\", \"Australia\", \"Austria\", \"Bahrain\", \"Bangladesh\", \"Bhutan\",\n",
    "    \"Brazil\", \"Bulgaria\", \"Canada\", \"China\", \"Costa Rica\", \"Egypt\", \"Europe\", \"Georgia\", \"Germany\",\n",
    "    \"Ghana\", \"India\", \"Iraq\", \"Ireland\", \"'Isle of Man'\", \"Italy\", \"Japan\", \"Jordan\", \"Kuwait\", \"Latvia\",\n",
    "    \"Lebanon\", \"Libya\", \"Malaysia\", \"Malta\", \"Mexico\", \"Nepal\", \"Netherlands\", \"'New Zealand'\", \"Nigeria\",\n",
    "    \"Oman\", \"Pakistan\", \"Philippines\", \"Qatar\", \"Romania\", \"Russia\", \"'Saudi Arabia'\", \"'South Africa'\",\n",
    "    \"'South Korea'\", \"Sweden\", \"Syria\", \"Turkey\", \"'U.S. Outlying Islands'\", \"'United Arab Emirates'\",\n",
    "    \"'United Kingdom'\", \"'United States'\"\n",
    "    ])\n",
    "    country_of_resi = st.selectbox(\"Country of Residence\", options=country_options)\n",
    "    relation = st.selectbox(\"Relation\", options=[\"Parent\", \"Self\", \"Relative\",\"self\", \"unknown\"])\n",
    "    user_data = {\n",
    "        'age': age,\n",
    "        'Notices_Sounds_A1': Notices_Sounds_A1,\n",
    "        'Whole_Picture_A2': Whole_Picture_A2,\n",
    "        'Tracks_Conversations_A3': Tracks_Conversations_A3,\n",
    "        'Switch_Activities_A4': Switch_Activities_A4,\n",
    "        'Conversation_Struggle_A5': Conversation_Struggle_A5,\n",
    "        'Social_ChitChat_A6': Social_ChitChat_A6,\n",
    "        'Understands_Intentions_A7': Understands_Intentions_A7,\n",
    "        'Pretend_Play_A8': Pretend_Play_A8,\n",
    "        'Understands_Emotions_A9': Understands_Emotions_A9,\n",
    "        'Makes_Friends_Easily_A10': Makes_Friends_Easily_A10,\n",
    "        'jaundice': 1 if jaundice == \"yes\" else 0,\n",
    "        'autism': 1 if autism == \"yes\" else 0,\n",
    "        'used_app_before': 1 if used_app_before == \"yes\" else 0,\n",
    "        'total_autism_score': total_autism_score,\n",
    "        'age_autism_interaction': age_autism_interaction,\n",
    "        'gender_m':1 if gender == \"M\" else 0,\n",
    "        f'country_of_res_{country_of_resi}':1,\n",
    "        f'ethnicity_{ethnicity}':1,\n",
    "        f'relation_{relation}':1,\n",
    "    }\n",
    "    return user_data\n",
    "user_data = get_user_input()\n",
    "user_data\n",
    "\n",
    "\n"
   ]
  },
  {
   "cell_type": "code",
   "execution_count": 24,
   "metadata": {},
   "outputs": [],
   "source": [
    "#transform the user input into a dataframe\n",
    "def prepare_input(data,feature_list):\n",
    "    input_data = {feature:data.get(feature,0) for feature in feature_list}\n",
    "    return np.array([list(input_data.values())])\n",
    "feature_list = X.columns.tolist()\n",
    "input_data = prepare_input(user_data, feature_list)\n",
    "input_data = pd.DataFrame(input_data, columns=feature_list)"
   ]
  },
  {
   "cell_type": "code",
   "execution_count": 25,
   "metadata": {},
   "outputs": [
    {
     "data": {
      "text/plain": [
       "array([1])"
      ]
     },
     "execution_count": 25,
     "metadata": {},
     "output_type": "execute_result"
    }
   ],
   "source": [
    "prediction = model.predict(input_data)\n",
    "prediction\n"
   ]
  },
  {
   "cell_type": "code",
   "execution_count": 26,
   "metadata": {},
   "outputs": [
    {
     "data": {
      "text/plain": [
       "Index(['Notices_Sounds_A1', 'Whole_Picture_A2', 'Tracks_Conversations_A3',\n",
       "       'Switch_Activities_A4', 'Conversation_Struggle_A5',\n",
       "       'Social_ChitChat_A6', 'Understands_Intentions_A7', 'Pretend_Play_A8',\n",
       "       'Understands_Emotions_A9', 'Makes_Friends_Easily_A10', 'age', 'gender',\n",
       "       'jaundice', 'autism', 'used_app_before', 'total_autism_score',\n",
       "       'age_autism_interaction', 'ethnicity_'South Asian'', 'ethnicity_Asian',\n",
       "       'ethnicity_Black', 'ethnicity_Hispanic', 'ethnicity_Latino',\n",
       "       'ethnicity_Others', 'ethnicity_Pasifika', 'ethnicity_Turkish',\n",
       "       'ethnicity_White-European', 'ethnicity_unknown',\n",
       "       'country_of_res_'Isle of Man'', 'country_of_res_'New Zealand'',\n",
       "       'country_of_res_'Saudi Arabia'', 'country_of_res_'South Africa'',\n",
       "       'country_of_res_'South Korea'',\n",
       "       'country_of_res_'U.S. Outlying Islands'',\n",
       "       'country_of_res_'United Arab Emirates'',\n",
       "       'country_of_res_'United Kingdom'', 'country_of_res_'United States'',\n",
       "       'country_of_res_Afghanistan', 'country_of_res_Argentina',\n",
       "       'country_of_res_Armenia', 'country_of_res_Australia',\n",
       "       'country_of_res_Austria', 'country_of_res_Bahrain',\n",
       "       'country_of_res_Bangladesh', 'country_of_res_Bhutan',\n",
       "       'country_of_res_Brazil', 'country_of_res_Bulgaria',\n",
       "       'country_of_res_Canada', 'country_of_res_China', 'country_of_res_Egypt',\n",
       "       'country_of_res_Europe', 'country_of_res_Georgia',\n",
       "       'country_of_res_Germany', 'country_of_res_Ghana',\n",
       "       'country_of_res_India', 'country_of_res_Iraq', 'country_of_res_Ireland',\n",
       "       'country_of_res_Italy', 'country_of_res_Japan', 'country_of_res_Jordan',\n",
       "       'country_of_res_Kuwait', 'country_of_res_Latvia',\n",
       "       'country_of_res_Lebanon', 'country_of_res_Libya',\n",
       "       'country_of_res_Malaysia', 'country_of_res_Malta',\n",
       "       'country_of_res_Mexico', 'country_of_res_Nepal',\n",
       "       'country_of_res_Netherlands', 'country_of_res_Nigeria',\n",
       "       'country_of_res_Oman', 'country_of_res_Pakistan',\n",
       "       'country_of_res_Philippines', 'country_of_res_Qatar',\n",
       "       'country_of_res_Romania', 'country_of_res_Russia',\n",
       "       'country_of_res_Sweden', 'country_of_res_Syria',\n",
       "       'country_of_res_Turkey', 'relation_Parent', 'relation_Relative',\n",
       "       'relation_Self', 'relation_self', 'relation_unknown'],\n",
       "      dtype='object')"
      ]
     },
     "execution_count": 26,
     "metadata": {},
     "output_type": "execute_result"
    }
   ],
   "source": [
    "X_train.columns"
   ]
  },
  {
   "cell_type": "code",
   "execution_count": null,
   "metadata": {},
   "outputs": [
    {
     "name": "stderr",
     "output_type": "stream",
     "text": [
      "2025-04-28 15:20:54.118 Thread 'MainThread': missing ScriptRunContext! This warning can be ignored when running in bare mode.\n",
      "2025-04-28 15:20:54.129 Thread 'MainThread': missing ScriptRunContext! This warning can be ignored when running in bare mode.\n",
      "2025-04-28 15:20:54.130 Thread 'MainThread': missing ScriptRunContext! This warning can be ignored when running in bare mode.\n",
      "2025-04-28 15:20:54.132 The `use_column_width` parameter has been deprecated and will be removed in a future release. Please utilize the `use_container_width` parameter instead.\n",
      "2025-04-28 15:20:54.133 Thread 'MainThread': missing ScriptRunContext! This warning can be ignored when running in bare mode.\n",
      "2025-04-28 15:20:54.185 Thread 'MainThread': missing ScriptRunContext! This warning can be ignored when running in bare mode.\n",
      "2025-04-28 15:20:54.187 Thread 'MainThread': missing ScriptRunContext! This warning can be ignored when running in bare mode.\n",
      "2025-04-28 15:20:54.188 Thread 'MainThread': missing ScriptRunContext! This warning can be ignored when running in bare mode.\n",
      "2025-04-28 15:20:54.188 Thread 'MainThread': missing ScriptRunContext! This warning can be ignored when running in bare mode.\n",
      "2025-04-28 15:20:54.190 Thread 'MainThread': missing ScriptRunContext! This warning can be ignored when running in bare mode.\n",
      "2025-04-28 15:20:54.190 Thread 'MainThread': missing ScriptRunContext! This warning can be ignored when running in bare mode.\n",
      "2025-04-28 15:20:54.191 Thread 'MainThread': missing ScriptRunContext! This warning can be ignored when running in bare mode.\n",
      "2025-04-28 15:20:54.192 Thread 'MainThread': missing ScriptRunContext! This warning can be ignored when running in bare mode.\n",
      "2025-04-28 15:20:54.194 Thread 'MainThread': missing ScriptRunContext! This warning can be ignored when running in bare mode.\n",
      "2025-04-28 15:20:54.195 Thread 'MainThread': missing ScriptRunContext! This warning can be ignored when running in bare mode.\n",
      "2025-04-28 15:20:54.196 Thread 'MainThread': missing ScriptRunContext! This warning can be ignored when running in bare mode.\n",
      "2025-04-28 15:20:54.198 Thread 'MainThread': missing ScriptRunContext! This warning can be ignored when running in bare mode.\n",
      "2025-04-28 15:20:54.199 Thread 'MainThread': missing ScriptRunContext! This warning can be ignored when running in bare mode.\n",
      "2025-04-28 15:20:54.199 Thread 'MainThread': missing ScriptRunContext! This warning can be ignored when running in bare mode.\n",
      "2025-04-28 15:20:54.200 Thread 'MainThread': missing ScriptRunContext! This warning can be ignored when running in bare mode.\n",
      "2025-04-28 15:20:54.201 Thread 'MainThread': missing ScriptRunContext! This warning can be ignored when running in bare mode.\n",
      "2025-04-28 15:20:54.202 Thread 'MainThread': missing ScriptRunContext! This warning can be ignored when running in bare mode.\n",
      "2025-04-28 15:20:54.202 Thread 'MainThread': missing ScriptRunContext! This warning can be ignored when running in bare mode.\n",
      "2025-04-28 15:20:54.203 Thread 'MainThread': missing ScriptRunContext! This warning can be ignored when running in bare mode.\n",
      "2025-04-28 15:20:54.204 Thread 'MainThread': missing ScriptRunContext! This warning can be ignored when running in bare mode.\n",
      "2025-04-28 15:20:54.204 Thread 'MainThread': missing ScriptRunContext! This warning can be ignored when running in bare mode.\n",
      "2025-04-28 15:20:54.205 Thread 'MainThread': missing ScriptRunContext! This warning can be ignored when running in bare mode.\n",
      "2025-04-28 15:20:54.207 Thread 'MainThread': missing ScriptRunContext! This warning can be ignored when running in bare mode.\n",
      "2025-04-28 15:20:54.207 Thread 'MainThread': missing ScriptRunContext! This warning can be ignored when running in bare mode.\n",
      "2025-04-28 15:20:54.208 Thread 'MainThread': missing ScriptRunContext! This warning can be ignored when running in bare mode.\n",
      "2025-04-28 15:20:54.210 Thread 'MainThread': missing ScriptRunContext! This warning can be ignored when running in bare mode.\n",
      "2025-04-28 15:20:54.211 Thread 'MainThread': missing ScriptRunContext! This warning can be ignored when running in bare mode.\n",
      "2025-04-28 15:20:54.214 Thread 'MainThread': missing ScriptRunContext! This warning can be ignored when running in bare mode.\n",
      "2025-04-28 15:20:54.215 Thread 'MainThread': missing ScriptRunContext! This warning can be ignored when running in bare mode.\n",
      "2025-04-28 15:20:54.216 Thread 'MainThread': missing ScriptRunContext! This warning can be ignored when running in bare mode.\n",
      "2025-04-28 15:20:54.217 Thread 'MainThread': missing ScriptRunContext! This warning can be ignored when running in bare mode.\n",
      "2025-04-28 15:20:54.218 Thread 'MainThread': missing ScriptRunContext! This warning can be ignored when running in bare mode.\n",
      "2025-04-28 15:20:54.219 Thread 'MainThread': missing ScriptRunContext! This warning can be ignored when running in bare mode.\n",
      "2025-04-28 15:20:54.219 Thread 'MainThread': missing ScriptRunContext! This warning can be ignored when running in bare mode.\n",
      "2025-04-28 15:20:54.220 Thread 'MainThread': missing ScriptRunContext! This warning can be ignored when running in bare mode.\n",
      "2025-04-28 15:20:54.221 Thread 'MainThread': missing ScriptRunContext! This warning can be ignored when running in bare mode.\n",
      "2025-04-28 15:20:54.221 Thread 'MainThread': missing ScriptRunContext! This warning can be ignored when running in bare mode.\n",
      "2025-04-28 15:20:54.222 Thread 'MainThread': missing ScriptRunContext! This warning can be ignored when running in bare mode.\n",
      "2025-04-28 15:20:54.223 Thread 'MainThread': missing ScriptRunContext! This warning can be ignored when running in bare mode.\n",
      "2025-04-28 15:20:54.224 Thread 'MainThread': missing ScriptRunContext! This warning can be ignored when running in bare mode.\n",
      "2025-04-28 15:20:54.224 Thread 'MainThread': missing ScriptRunContext! This warning can be ignored when running in bare mode.\n",
      "2025-04-28 15:20:54.225 Thread 'MainThread': missing ScriptRunContext! This warning can be ignored when running in bare mode.\n",
      "2025-04-28 15:20:54.227 Thread 'MainThread': missing ScriptRunContext! This warning can be ignored when running in bare mode.\n",
      "2025-04-28 15:20:54.228 Thread 'MainThread': missing ScriptRunContext! This warning can be ignored when running in bare mode.\n",
      "2025-04-28 15:20:54.229 Thread 'MainThread': missing ScriptRunContext! This warning can be ignored when running in bare mode.\n",
      "2025-04-28 15:20:54.230 Thread 'MainThread': missing ScriptRunContext! This warning can be ignored when running in bare mode.\n",
      "2025-04-28 15:20:54.230 Thread 'MainThread': missing ScriptRunContext! This warning can be ignored when running in bare mode.\n",
      "2025-04-28 15:20:54.233 Thread 'MainThread': missing ScriptRunContext! This warning can be ignored when running in bare mode.\n",
      "2025-04-28 15:20:54.234 Thread 'MainThread': missing ScriptRunContext! This warning can be ignored when running in bare mode.\n",
      "2025-04-28 15:20:54.235 Thread 'MainThread': missing ScriptRunContext! This warning can be ignored when running in bare mode.\n",
      "2025-04-28 15:20:54.236 Thread 'MainThread': missing ScriptRunContext! This warning can be ignored when running in bare mode.\n",
      "2025-04-28 15:20:54.237 Thread 'MainThread': missing ScriptRunContext! This warning can be ignored when running in bare mode.\n",
      "2025-04-28 15:20:54.237 Thread 'MainThread': missing ScriptRunContext! This warning can be ignored when running in bare mode.\n",
      "2025-04-28 15:20:54.238 Thread 'MainThread': missing ScriptRunContext! This warning can be ignored when running in bare mode.\n",
      "2025-04-28 15:20:54.239 Thread 'MainThread': missing ScriptRunContext! This warning can be ignored when running in bare mode.\n",
      "2025-04-28 15:20:54.240 Thread 'MainThread': missing ScriptRunContext! This warning can be ignored when running in bare mode.\n",
      "2025-04-28 15:20:54.241 Thread 'MainThread': missing ScriptRunContext! This warning can be ignored when running in bare mode.\n",
      "2025-04-28 15:20:54.242 Thread 'MainThread': missing ScriptRunContext! This warning can be ignored when running in bare mode.\n",
      "2025-04-28 15:20:54.244 Thread 'MainThread': missing ScriptRunContext! This warning can be ignored when running in bare mode.\n",
      "2025-04-28 15:20:54.245 Thread 'MainThread': missing ScriptRunContext! This warning can be ignored when running in bare mode.\n",
      "2025-04-28 15:20:54.246 Thread 'MainThread': missing ScriptRunContext! This warning can be ignored when running in bare mode.\n",
      "2025-04-28 15:20:54.247 Thread 'MainThread': missing ScriptRunContext! This warning can be ignored when running in bare mode.\n",
      "2025-04-28 15:20:54.248 Thread 'MainThread': missing ScriptRunContext! This warning can be ignored when running in bare mode.\n",
      "2025-04-28 15:20:54.249 Thread 'MainThread': missing ScriptRunContext! This warning can be ignored when running in bare mode.\n",
      "2025-04-28 15:20:54.250 Thread 'MainThread': missing ScriptRunContext! This warning can be ignored when running in bare mode.\n",
      "2025-04-28 15:20:54.251 Thread 'MainThread': missing ScriptRunContext! This warning can be ignored when running in bare mode.\n",
      "2025-04-28 15:20:54.252 Thread 'MainThread': missing ScriptRunContext! This warning can be ignored when running in bare mode.\n",
      "2025-04-28 15:20:54.253 Thread 'MainThread': missing ScriptRunContext! This warning can be ignored when running in bare mode.\n",
      "2025-04-28 15:20:54.254 Thread 'MainThread': missing ScriptRunContext! This warning can be ignored when running in bare mode.\n",
      "2025-04-28 15:20:54.254 Thread 'MainThread': missing ScriptRunContext! This warning can be ignored when running in bare mode.\n",
      "2025-04-28 15:20:54.256 Thread 'MainThread': missing ScriptRunContext! This warning can be ignored when running in bare mode.\n",
      "2025-04-28 15:20:54.257 Thread 'MainThread': missing ScriptRunContext! This warning can be ignored when running in bare mode.\n",
      "2025-04-28 15:20:54.257 Thread 'MainThread': missing ScriptRunContext! This warning can be ignored when running in bare mode.\n",
      "2025-04-28 15:20:54.259 Thread 'MainThread': missing ScriptRunContext! This warning can be ignored when running in bare mode.\n",
      "2025-04-28 15:20:54.261 Thread 'MainThread': missing ScriptRunContext! This warning can be ignored when running in bare mode.\n",
      "2025-04-28 15:20:54.262 Thread 'MainThread': missing ScriptRunContext! This warning can be ignored when running in bare mode.\n",
      "2025-04-28 15:20:54.263 Thread 'MainThread': missing ScriptRunContext! This warning can be ignored when running in bare mode.\n",
      "2025-04-28 15:20:54.263 Thread 'MainThread': missing ScriptRunContext! This warning can be ignored when running in bare mode.\n",
      "2025-04-28 15:20:54.264 Thread 'MainThread': missing ScriptRunContext! This warning can be ignored when running in bare mode.\n",
      "2025-04-28 15:20:54.266 Thread 'MainThread': missing ScriptRunContext! This warning can be ignored when running in bare mode.\n",
      "2025-04-28 15:20:54.267 Thread 'MainThread': missing ScriptRunContext! This warning can be ignored when running in bare mode.\n",
      "2025-04-28 15:20:54.267 Thread 'MainThread': missing ScriptRunContext! This warning can be ignored when running in bare mode.\n",
      "2025-04-28 15:20:54.268 Thread 'MainThread': missing ScriptRunContext! This warning can be ignored when running in bare mode.\n",
      "2025-04-28 15:20:54.270 Thread 'MainThread': missing ScriptRunContext! This warning can be ignored when running in bare mode.\n",
      "2025-04-28 15:20:54.271 Thread 'MainThread': missing ScriptRunContext! This warning can be ignored when running in bare mode.\n",
      "2025-04-28 15:20:54.272 Thread 'MainThread': missing ScriptRunContext! This warning can be ignored when running in bare mode.\n",
      "2025-04-28 15:20:54.272 Thread 'MainThread': missing ScriptRunContext! This warning can be ignored when running in bare mode.\n",
      "2025-04-28 15:20:54.273 Thread 'MainThread': missing ScriptRunContext! This warning can be ignored when running in bare mode.\n",
      "2025-04-28 15:20:54.275 Thread 'MainThread': missing ScriptRunContext! This warning can be ignored when running in bare mode.\n",
      "2025-04-28 15:20:54.277 Thread 'MainThread': missing ScriptRunContext! This warning can be ignored when running in bare mode.\n",
      "2025-04-28 15:20:54.278 Thread 'MainThread': missing ScriptRunContext! This warning can be ignored when running in bare mode.\n",
      "2025-04-28 15:20:54.279 Thread 'MainThread': missing ScriptRunContext! This warning can be ignored when running in bare mode.\n",
      "2025-04-28 15:20:54.280 Thread 'MainThread': missing ScriptRunContext! This warning can be ignored when running in bare mode.\n",
      "2025-04-28 15:20:54.281 Thread 'MainThread': missing ScriptRunContext! This warning can be ignored when running in bare mode.\n",
      "2025-04-28 15:20:54.282 Thread 'MainThread': missing ScriptRunContext! This warning can be ignored when running in bare mode.\n",
      "2025-04-28 15:20:54.282 Thread 'MainThread': missing ScriptRunContext! This warning can be ignored when running in bare mode.\n",
      "2025-04-28 15:20:54.284 Thread 'MainThread': missing ScriptRunContext! This warning can be ignored when running in bare mode.\n",
      "2025-04-28 15:20:54.284 Thread 'MainThread': missing ScriptRunContext! This warning can be ignored when running in bare mode.\n",
      "2025-04-28 15:20:54.286 Thread 'MainThread': missing ScriptRunContext! This warning can be ignored when running in bare mode.\n",
      "2025-04-28 15:20:54.287 Thread 'MainThread': missing ScriptRunContext! This warning can be ignored when running in bare mode.\n",
      "2025-04-28 15:20:54.289 Thread 'MainThread': missing ScriptRunContext! This warning can be ignored when running in bare mode.\n",
      "2025-04-28 15:20:54.290 Thread 'MainThread': missing ScriptRunContext! This warning can be ignored when running in bare mode.\n",
      "2025-04-28 15:20:54.291 Thread 'MainThread': missing ScriptRunContext! This warning can be ignored when running in bare mode.\n",
      "2025-04-28 15:20:54.293 Thread 'MainThread': missing ScriptRunContext! This warning can be ignored when running in bare mode.\n",
      "2025-04-28 15:20:54.295 Thread 'MainThread': missing ScriptRunContext! This warning can be ignored when running in bare mode.\n",
      "2025-04-28 15:20:54.296 Thread 'MainThread': missing ScriptRunContext! This warning can be ignored when running in bare mode.\n",
      "2025-04-28 15:20:54.298 Thread 'MainThread': missing ScriptRunContext! This warning can be ignored when running in bare mode.\n",
      "2025-04-28 15:20:54.299 Thread 'MainThread': missing ScriptRunContext! This warning can be ignored when running in bare mode.\n",
      "2025-04-28 15:20:54.300 Thread 'MainThread': missing ScriptRunContext! This warning can be ignored when running in bare mode.\n",
      "2025-04-28 15:20:54.302 Thread 'MainThread': missing ScriptRunContext! This warning can be ignored when running in bare mode.\n",
      "2025-04-28 15:20:54.303 Thread 'MainThread': missing ScriptRunContext! This warning can be ignored when running in bare mode.\n",
      "2025-04-28 15:20:54.304 Thread 'MainThread': missing ScriptRunContext! This warning can be ignored when running in bare mode.\n",
      "2025-04-28 15:20:54.304 Thread 'MainThread': missing ScriptRunContext! This warning can be ignored when running in bare mode.\n",
      "2025-04-28 15:20:54.306 Thread 'MainThread': missing ScriptRunContext! This warning can be ignored when running in bare mode.\n",
      "2025-04-28 15:20:54.307 Thread 'MainThread': missing ScriptRunContext! This warning can be ignored when running in bare mode.\n",
      "2025-04-28 15:20:54.308 Thread 'MainThread': missing ScriptRunContext! This warning can be ignored when running in bare mode.\n",
      "2025-04-28 15:20:54.309 Thread 'MainThread': missing ScriptRunContext! This warning can be ignored when running in bare mode.\n",
      "2025-04-28 15:20:54.311 Thread 'MainThread': missing ScriptRunContext! This warning can be ignored when running in bare mode.\n",
      "2025-04-28 15:20:54.313 Thread 'MainThread': missing ScriptRunContext! This warning can be ignored when running in bare mode.\n",
      "2025-04-28 15:20:54.315 Thread 'MainThread': missing ScriptRunContext! This warning can be ignored when running in bare mode.\n",
      "2025-04-28 15:20:54.316 Thread 'MainThread': missing ScriptRunContext! This warning can be ignored when running in bare mode.\n",
      "2025-04-28 15:20:54.317 Thread 'MainThread': missing ScriptRunContext! This warning can be ignored when running in bare mode.\n",
      "2025-04-28 15:20:54.318 Thread 'MainThread': missing ScriptRunContext! This warning can be ignored when running in bare mode.\n",
      "2025-04-28 15:20:54.319 Thread 'MainThread': missing ScriptRunContext! This warning can be ignored when running in bare mode.\n",
      "2025-04-28 15:20:54.319 Thread 'MainThread': missing ScriptRunContext! This warning can be ignored when running in bare mode.\n",
      "2025-04-28 15:20:54.320 Thread 'MainThread': missing ScriptRunContext! This warning can be ignored when running in bare mode.\n",
      "2025-04-28 15:20:54.321 Thread 'MainThread': missing ScriptRunContext! This warning can be ignored when running in bare mode.\n",
      "2025-04-28 15:20:54.321 Thread 'MainThread': missing ScriptRunContext! This warning can be ignored when running in bare mode.\n"
     ]
    }
   ],
   "source": [
    "#creating the app \n",
    "import streamlit as st\n",
    "import pandas as pd\n",
    "import numpy as np\n",
    "import pickle\n",
    "import xgboost as xgb\n",
    "import matplotlib.pyplot as plt\n",
    "import seaborn as sns\n",
    "from PIL import Image\n",
    "st.set_page_config(page_title=\"Autism Prediction App\", page_icon=\":guardsman:\", layout=\"wide\")\n",
    "\n",
    "model_filename = 'xgboost_model.pkl'\n",
    "with open(model_filename, 'rb') as file:\n",
    "    lm2 = pickle.load(file)\n",
    "\n",
    "#load feature importance\n",
    "def load_feature_importance():\n",
    "    try:\n",
    "        importance_df = pd.read_csv('feature_importance.csv')\n",
    "        return importance_df\n",
    "    except FileNotFoundError:\n",
    "        st.error(\"Feature importance file not found.\")\n",
    "        return None\n",
    "    \n",
    "#sidebar \n",
    "image_sidebar = Image.open('autism.png')\n",
    "st.sidebar.image(image_sidebar, use_column_width=True)\n",
    "st.sidebar.header(\"Autism Prediction App\")\n",
    "\n",
    "#feature selection on sidebar\n",
    "\n",
    "def get_user_input():\n",
    "    st.title(\"Autism Prediction App\")\n",
    "    \n",
    "    # User input fields\n",
    "    age = st.number_input(\"Age\", min_value=0, max_value=20, value=10)\n",
    "    Notices_Sounds_A1 = st.number_input(\"Notices Sounds (A1)\", min_value=0, max_value=1, value=1)\n",
    "    Whole_Picture_A2 = st.number_input(\"Whole Picture (A2)\", min_value=0, max_value=1, value=1)\n",
    "    Tracks_Conversations_A3 = st.number_input(\"Tracks Conversations (A3)\", min_value=0, max_value=1, value=1)\n",
    "    Switch_Activities_A4 = st.number_input(\"Switch Activities (A4)\", min_value=0, max_value=1, value=1)\n",
    "    Conversation_Struggle_A5 = st.number_input(\"Conversation Struggle (A5)\", min_value=0, max_value=1, value=1)\n",
    "    Social_ChitChat_A6 = st.number_input(\"Social ChitChat (A6)\", min_value=0, max_value=1, value=1)\n",
    "    Understands_Intentions_A7 = st.number_input(\"Understands Intentions (A7)\", min_value=0, max_value=1, value=1)\n",
    "    Pretend_Play_A8 = st.number_input(\"Pretend Play (A8)\", min_value=0, max_value=1, value=1)\n",
    "    Understands_Emotions_A9 = st.number_input(\"Understands Emotions (A9)\", min_value=0, max_value=1, value=1)  \n",
    "    Makes_Friends_Easily_A10 = st.number_input(\"Makes Friends Easily (A10)\", min_value=0, max_value=1, value=1)\n",
    "    jaundice = st.selectbox(\"Jaundice\", options=[\"no\", \"yes\"])\n",
    "    autism = st.selectbox(\"Autism\", options=[\"no\", \"yes\"])\n",
    "    used_app_before = st.selectbox(\"Used App Before\", options=[\"no\", \"yes\"])\n",
    "    total_autism_score = Notices_Sounds_A1 + Whole_Picture_A2 + Tracks_Conversations_A3 + Switch_Activities_A4 + Conversation_Struggle_A5 + Social_ChitChat_A6 + Understands_Intentions_A7 + Pretend_Play_A8 + Understands_Emotions_A9 + Makes_Friends_Easily_A10\n",
    "    age_autism_interaction = age * total_autism_score / 2\n",
    "    gender = st.selectbox(\"Gender\", options=[\"Male\", \"Female\"])\n",
    "    ethnicity = st.selectbox(\"Ethnicity\", options=[\"White\", \"Asian\", \"Black\", \"Hispanic\",\"Latino\",'Middle Eastern',\"South Asian\",\"Turkish\",\"White-European\",\"Pasifika\",\"Others\",\"Unknown\"])\n",
    "    country_options = sorted([\n",
    "    \"Afghanistan\", \"Argentina\", \"Armenia\", \"Australia\", \"Austria\", \"Bahrain\", \"Bangladesh\", \"Bhutan\",\n",
    "    \"Brazil\", \"Bulgaria\", \"Canada\", \"China\", \"Costa Rica\", \"Egypt\", \"Europe\", \"Georgia\", \"Germany\",\n",
    "    \"Ghana\", \"India\", \"Iraq\", \"Ireland\", \"'Isle of Man'\", \"Italy\", \"Japan\", \"Jordan\", \"Kuwait\", \"Latvia\",\n",
    "    \"Lebanon\", \"Libya\", \"Malaysia\", \"Malta\", \"Mexico\", \"Nepal\", \"Netherlands\", \"'New Zealand'\", \"Nigeria\",\n",
    "    \"Oman\", \"Pakistan\", \"Philippines\", \"Qatar\", \"Romania\", \"Russia\", \"'Saudi Arabia'\", \"'South Africa'\",\n",
    "    \"'South Korea'\", \"Sweden\", \"Syria\", \"Turkey\", \"'U.S. Outlying Islands'\", \"'United Arab Emirates'\",\n",
    "    \"'United Kingdom'\", \"'United States'\"\n",
    "    ])\n",
    "    country_of_resi = st.selectbox(\"Country of Residence\", options=country_options)\n",
    "    relation = st.selectbox(\"Relation\", options=[\"Parent\", \"Self\", \"Relative\",\"self\", \"unknown\"])\n",
    "    user_data = {\n",
    "        'age': age,\n",
    "        'Notices_Sounds_A1': Notices_Sounds_A1,\n",
    "        'Whole_Picture_A2': Whole_Picture_A2,\n",
    "        'Tracks_Conversations_A3': Tracks_Conversations_A3,\n",
    "        'Switch_Activities_A4': Switch_Activities_A4,\n",
    "        'Conversation_Struggle_A5': Conversation_Struggle_A5,\n",
    "        'Social_ChitChat_A6': Social_ChitChat_A6,\n",
    "        'Understands_Intentions_A7': Understands_Intentions_A7,\n",
    "        'Pretend_Play_A8': Pretend_Play_A8,\n",
    "        'Understands_Emotions_A9': Understands_Emotions_A9,\n",
    "        'Makes_Friends_Easily_A10': Makes_Friends_Easily_A10,\n",
    "        'jaundice': 1 if jaundice == \"yes\" else 0,\n",
    "        'autism': 1 if autism == \"yes\" else 0,\n",
    "        'used_app_before': 1 if used_app_before == \"yes\" else 0,\n",
    "        'total_autism_score': total_autism_score,\n",
    "        'age_autism_interaction': age_autism_interaction,\n",
    "        'gender':1 if gender == \"M\" else 0,\n",
    "        f'country_of_res_{country_of_resi}':1,\n",
    "        f'ethnicity_{ethnicity}':1,\n",
    "        f'relation_{relation}':1,\n",
    "    }\n",
    "    return user_data\n",
    "\n",
    "st.markdown(\"<h1 style='text-align: center;'>Autism prediction</h1>\")\n",
    "left_column, right_column = st.columns(2)\n",
    "with left_column:\n",
    "    st.header(\"Feature Importance\")\n",
    "\n",
    "with right_column:\n",
    "    st.header(\"Model Performance\")\n",
    "    user_data = get_user_input()\n",
    "    #transform the user input into a dataframe\n",
    "    def prepare_input(data,feature_list):\n",
    "        input_data = {feature:data.get(feature,0) for feature in feature_list}\n",
    "        return np.array([list(input_data.values())])\n",
    "    features = [\n",
    "    \"Notices_Sounds_A1\",\n",
    "    \"Whole_Picture_A2\",\n",
    "    \"Tracks_Conversations_A3\",\n",
    "    \"Switch_Activities_A4\",\n",
    "    \"Conversation_Struggle_A5\",\n",
    "    \"Social_ChitChat_A6\",\n",
    "    \"Understands_Intentions_A7\",\n",
    "    \"Pretend_Play_A8\",\n",
    "    \"Understands_Emotions_A9\",\n",
    "    \"Makes_Friends_Easily_A10\",\n",
    "    \"age\",\n",
    "    \"jaundice\",\n",
    "    \"autism\",\n",
    "    \"used_app_before\",\n",
    "    \"total_autism_score\",\n",
    "    \"age_autism_interaction\",\n",
    "    \"gender\",\n",
    "    \"ethnicity_'South Asian'\",\n",
    "    \"ethnicity_Asian\",\n",
    "    \"ethnicity_Black\",\n",
    "    \"ethnicity_Hispanic\",\n",
    "    \"ethnicity_Latino\",\n",
    "    \"ethnicity_Others\",\n",
    "    \"ethnicity_Pasifika\",\n",
    "    \"ethnicity_Turkish\",\n",
    "    \"ethnicity_White-European\",\n",
    "    \"ethnicity_unknown\",\n",
    "    \"country_of_res_'Isle of Man'\",\n",
    "    \"country_of_res_'New Zealand'\",\n",
    "    \"country_of_res_'Saudi Arabia'\",\n",
    "    \"country_of_res_'South Africa'\",\n",
    "    \"country_of_res_'South Korea'\",\n",
    "    \"country_of_res_'U.S. Outlying Islands'\",\n",
    "    \"country_of_res_'United Arab Emirates'\",\n",
    "    \"country_of_res_'United Kingdom'\",\n",
    "    \"country_of_res_'United States'\",\n",
    "    \"country_of_res_Afghanistan\",\n",
    "    \"country_of_res_Argentina\",\n",
    "    \"country_of_res_Armenia\",\n",
    "    \"country_of_res_Australia\",\n",
    "    \"country_of_res_Austria\",\n",
    "    \"country_of_res_Bahrain\",\n",
    "    \"country_of_res_Bangladesh\",\n",
    "    \"country_of_res_Bhutan\",\n",
    "    \"country_of_res_Brazil\",\n",
    "    \"country_of_res_Bulgaria\",\n",
    "    \"country_of_res_Canada\",\n",
    "    \"country_of_res_China\",\n",
    "    \"country_of_res_Egypt\",\n",
    "    \"country_of_res_Europe\",\n",
    "    \"country_of_res_Georgia\",\n",
    "    \"country_of_res_Germany\",\n",
    "    \"country_of_res_Ghana\",\n",
    "    \"country_of_res_India\",\n",
    "    \"country_of_res_Iraq\",\n",
    "    \"country_of_res_Ireland\",\n",
    "    \"country_of_res_Italy\",\n",
    "    \"country_of_res_Japan\",\n",
    "    \"country_of_res_Jordan\",\n",
    "    \"country_of_res_Kuwait\",\n",
    "    \"country_of_res_Latvia\",\n",
    "    \"country_of_res_Lebanon\",\n",
    "    \"country_of_res_Libya\",\n",
    "    \"country_of_res_Malaysia\",\n",
    "    \"country_of_res_Malta\",\n",
    "    \"country_of_res_Mexico\",\n",
    "    \"country_of_res_Nepal\",\n",
    "    \"country_of_res_Netherlands\",\n",
    "    \"country_of_res_Nigeria\",\n",
    "    \"country_of_res_Oman\",\n",
    "    \"country_of_res_Pakistan\",\n",
    "    \"country_of_res_Philippines\",\n",
    "    \"country_of_res_Qatar\",\n",
    "    \"country_of_res_Romania\",\n",
    "    \"country_of_res_Russia\",\n",
    "    \"country_of_res_Sweden\",\n",
    "    \"country_of_res_Syria\",\n",
    "    \"country_of_res_Turkey\",\n",
    "    \"relation_Parent\",\n",
    "    \"relation_Relative\",\n",
    "    \"relation_Self\",\n",
    "    \"relation_self\",\n",
    "    \"relation_unknown\"\n",
    "    ]\n",
    "    if st.button(\"Predict\"):\n",
    "        input_data = prepare_input(user_data, features)\n",
    "        prediction = lm2.predict(input_data)\n",
    "        st.write(f\"Prediction: {'Autistic' if prediction[0] == 1 else 'Not Autistic'}\")\n",
    "\n",
    "    \n",
    "\n",
    "    \n",
    "\n"
   ]
  },
  {
   "cell_type": "code",
   "execution_count": 30,
   "metadata": {},
   "outputs": [
    {
     "data": {
      "text/plain": [
       "84"
      ]
     },
     "execution_count": 30,
     "metadata": {},
     "output_type": "execute_result"
    }
   ],
   "source": [
    "len(features)"
   ]
  },
  {
   "cell_type": "code",
   "execution_count": 31,
   "metadata": {},
   "outputs": [
    {
     "data": {
      "text/plain": [
       "['Notices_Sounds_A1',\n",
       " 'Whole_Picture_A2',\n",
       " 'Tracks_Conversations_A3',\n",
       " 'Switch_Activities_A4',\n",
       " 'Conversation_Struggle_A5',\n",
       " 'Social_ChitChat_A6',\n",
       " 'Understands_Intentions_A7',\n",
       " 'Pretend_Play_A8',\n",
       " 'Understands_Emotions_A9',\n",
       " 'Makes_Friends_Easily_A10',\n",
       " 'age',\n",
       " 'gender',\n",
       " 'jaundice',\n",
       " 'autism',\n",
       " 'used_app_before',\n",
       " 'total_autism_score',\n",
       " 'age_autism_interaction',\n",
       " \"ethnicity_'South Asian'\",\n",
       " 'ethnicity_Asian',\n",
       " 'ethnicity_Black',\n",
       " 'ethnicity_Hispanic',\n",
       " 'ethnicity_Latino',\n",
       " 'ethnicity_Others',\n",
       " 'ethnicity_Pasifika',\n",
       " 'ethnicity_Turkish',\n",
       " 'ethnicity_White-European',\n",
       " 'ethnicity_unknown',\n",
       " \"country_of_res_'Isle of Man'\",\n",
       " \"country_of_res_'New Zealand'\",\n",
       " \"country_of_res_'Saudi Arabia'\",\n",
       " \"country_of_res_'South Africa'\",\n",
       " \"country_of_res_'South Korea'\",\n",
       " \"country_of_res_'U.S. Outlying Islands'\",\n",
       " \"country_of_res_'United Arab Emirates'\",\n",
       " \"country_of_res_'United Kingdom'\",\n",
       " \"country_of_res_'United States'\",\n",
       " 'country_of_res_Afghanistan',\n",
       " 'country_of_res_Argentina',\n",
       " 'country_of_res_Armenia',\n",
       " 'country_of_res_Australia',\n",
       " 'country_of_res_Austria',\n",
       " 'country_of_res_Bahrain',\n",
       " 'country_of_res_Bangladesh',\n",
       " 'country_of_res_Bhutan',\n",
       " 'country_of_res_Brazil',\n",
       " 'country_of_res_Bulgaria',\n",
       " 'country_of_res_Canada',\n",
       " 'country_of_res_China',\n",
       " 'country_of_res_Egypt',\n",
       " 'country_of_res_Europe',\n",
       " 'country_of_res_Georgia',\n",
       " 'country_of_res_Germany',\n",
       " 'country_of_res_Ghana',\n",
       " 'country_of_res_India',\n",
       " 'country_of_res_Iraq',\n",
       " 'country_of_res_Ireland',\n",
       " 'country_of_res_Italy',\n",
       " 'country_of_res_Japan',\n",
       " 'country_of_res_Jordan',\n",
       " 'country_of_res_Kuwait',\n",
       " 'country_of_res_Latvia',\n",
       " 'country_of_res_Lebanon',\n",
       " 'country_of_res_Libya',\n",
       " 'country_of_res_Malaysia',\n",
       " 'country_of_res_Malta',\n",
       " 'country_of_res_Mexico',\n",
       " 'country_of_res_Nepal',\n",
       " 'country_of_res_Netherlands',\n",
       " 'country_of_res_Nigeria',\n",
       " 'country_of_res_Oman',\n",
       " 'country_of_res_Pakistan',\n",
       " 'country_of_res_Philippines',\n",
       " 'country_of_res_Qatar',\n",
       " 'country_of_res_Romania',\n",
       " 'country_of_res_Russia',\n",
       " 'country_of_res_Sweden',\n",
       " 'country_of_res_Syria',\n",
       " 'country_of_res_Turkey',\n",
       " 'relation_Parent',\n",
       " 'relation_Relative',\n",
       " 'relation_Self',\n",
       " 'relation_self',\n",
       " 'relation_unknown']"
      ]
     },
     "execution_count": 31,
     "metadata": {},
     "output_type": "execute_result"
    }
   ],
   "source": [
    "X_test.columns.tolist()\n"
   ]
  },
  {
   "cell_type": "code",
   "execution_count": null,
   "metadata": {},
   "outputs": [],
   "source": [
    "#commiting after changes by trying streamlit and xgboost tuning"
   ]
  },
  {
   "cell_type": "code",
   "execution_count": null,
   "metadata": {},
   "outputs": [],
   "source": []
  }
 ],
 "metadata": {
  "kernelspec": {
   "display_name": "Python 3",
   "language": "python",
   "name": "python3"
  },
  "language_info": {
   "codemirror_mode": {
    "name": "ipython",
    "version": 3
   },
   "file_extension": ".py",
   "mimetype": "text/x-python",
   "name": "python",
   "nbconvert_exporter": "python",
   "pygments_lexer": "ipython3",
   "version": "3.13.3"
  }
 },
 "nbformat": 4,
 "nbformat_minor": 2
}
