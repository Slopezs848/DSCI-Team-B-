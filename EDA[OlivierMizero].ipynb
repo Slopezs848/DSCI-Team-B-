{
 "cells": [
  {
   "cell_type": "markdown",
   "metadata": {},
   "source": [
    "# Early Autism Detection"
   ]
  },
  {
   "cell_type": "markdown",
   "metadata": {},
   "source": [
    "## Exploratory Data Analysis"
   ]
  },
  {
   "cell_type": "markdown",
   "metadata": {},
   "source": [
    "### Load The Autistic Spectrum Disorder Screening Data for Children Dataset"
   ]
  },
  {
   "cell_type": "markdown",
   "metadata": {},
   "source": [
    "**Description:** This dataset contains information related to the screening of autistic spectrum disorder (ASD) in children. It includes various demographic and behavioral features that are used to identify potential ASD cases.\n",
    "\n",
    "**Attributes:**\n",
    "\n",
    "- **A1_Score:** Integer - The answer code for the first question in the AQ-10-Child questionnaire (0 or 1).\n",
    "\n",
    "- **A2_Score:** Integer - The answer code for the second question in the AQ-10-Child questionnaire (0 or 1).\n",
    "\n",
    "- **A3_Score:** Integer - The answer code for the third question in the AQ-10-Child questionnaire (0 or 1).\n",
    "\n",
    "- **A4_Score:** Integer - The answer code for the fourth question in the AQ-10-Child questionnaire (0 or 1).\n",
    "\n",
    "- **A5_Score:** Integer - The answer code for the fifth question in the AQ-10-Child questionnaire (0 or 1).\n",
    "\n",
    "- **A6_Score:** Integer - The answer code for the sixth question in the AQ-10-Child questionnaire (0 or 1).\n",
    "\n",
    "- **A7_Score:** Integer - The answer code for the seventh question in the AQ-10-Child questionnaire (0 or 1).\n",
    "\n",
    "- **A8_Score:** Integer - The answer code for the eighth question in the AQ-10-Child questionnaire (0 or 1).\n",
    "\n",
    "- **A9_Score:** Integer - The answer code for the ninth question in the AQ-10-Child questionnaire (0 or 1).\n",
    "\n",
    "- **A10_Score:** Integer - The answer code for the tenth question in the AQ-10-Child questionnaire (0 or 1).\n",
    "\n",
    "- **age:** Integer - Age of the individual in years.\n",
    "\n",
    "- **gender:** Categorical - Gender of the individual (Male or Female).\n",
    "\n",
    "- **ethnicity:** Categorical - List of common ethnicities in text format.\n",
    "\n",
    "- **jaundice:** Binary - Whether the individual was born with jaundice (yes or no).\n",
    "\n",
    "- **autism:** Binary - Whether any immediate family member has a pervasive developmental disorder (PDD) (yes or no).\n",
    "\n",
    "- **country_of_res:** Categorical - List of countries in text format.\n",
    "\n",
    "- **used_app_before:** Binary - Whether the user has used a screening app before (yes or no).\n",
    "\n",
    "- **result:** Integer - The final score obtained based on the scoring algorithm of the screening method used.\n",
    "\n",
    "- **age_desc:** Categorical - Description of the age category.\n",
    "\n",
    "- **relation:** Categorical - The person completing the test (Parent, self, caregiver, medical staff, clinician, etc.).\n",
    "\n",
    "- **class:** Binary - The target variable indicating whether the individual is classified as having ASD (yes or no).\n",
    "\n",
    "**Source:** Thabtah, F. (2017). Autistic Spectrum Disorder Screening Data for Children [Dataset]. UCI Machine Learning Repository. Retrieved from https://doi.org/10.24432/C5659W.\n"
   ]
  },
  {
   "cell_type": "code",
   "execution_count": 16,
   "metadata": {},
   "outputs": [],
   "source": [
    "from ucimlrepo import fetch_ucirepo \n",
    "import pandas as pd"
   ]
  },
  {
   "cell_type": "code",
   "execution_count": 17,
   "metadata": {},
   "outputs": [],
   "source": [
    "autistic_spectrum_disorder_screening_data_for_children = fetch_ucirepo(id=419) \n",
    "X = autistic_spectrum_disorder_screening_data_for_children.data.features \n",
    "y = autistic_spectrum_disorder_screening_data_for_children.data.targets \n",
    "df = pd.concat([X, y], axis=1)"
   ]
  },
  {
   "cell_type": "markdown",
   "metadata": {},
   "source": [
    "### Dataset Inspection"
   ]
  },
  {
   "cell_type": "markdown",
   "metadata": {},
   "source": [
    "The dataset has **21** attributes."
   ]
  },
  {
   "cell_type": "code",
   "execution_count": 24,
   "metadata": {},
   "outputs": [
    {
     "name": "stdout",
     "output_type": "stream",
     "text": [
      "Index(['A1_Score', 'A2_Score', 'A3_Score', 'A4_Score', 'A5_Score', 'A6_Score',\n",
      "       'A7_Score', 'A8_Score', 'A9_Score', 'A10_Score', 'age', 'gender',\n",
      "       'ethnicity', 'jaundice', 'autism', 'country_of_res', 'used_app_before',\n",
      "       'result', 'age_desc', 'relation', 'class'],\n",
      "      dtype='object')\n"
     ]
    },
    {
     "data": {
      "text/plain": [
       "21"
      ]
     },
     "execution_count": 24,
     "metadata": {},
     "output_type": "execute_result"
    }
   ],
   "source": [
    "feature_names = df.columns\n",
    "print(feature_names)\n",
    "len(feature_names)"
   ]
  },
  {
   "cell_type": "markdown",
   "metadata": {},
   "source": [
    "### Missing Values, Duplicates, Outliers, and Data Imbalance"
   ]
  },
  {
   "cell_type": "markdown",
   "metadata": {},
   "source": [
    "### Data Cleaning"
   ]
  },
  {
   "cell_type": "markdown",
   "metadata": {},
   "source": [
    "### Data Analysis And Visualization"
   ]
  }
 ],
 "metadata": {
  "kernelspec": {
   "display_name": "PrescriptiveAnalytics",
   "language": "python",
   "name": "python3"
  },
  "language_info": {
   "codemirror_mode": {
    "name": "ipython",
    "version": 3
   },
   "file_extension": ".py",
   "mimetype": "text/x-python",
   "name": "python",
   "nbconvert_exporter": "python",
   "pygments_lexer": "ipython3",
   "version": "3.12.6"
  }
 },
 "nbformat": 4,
 "nbformat_minor": 2
}
